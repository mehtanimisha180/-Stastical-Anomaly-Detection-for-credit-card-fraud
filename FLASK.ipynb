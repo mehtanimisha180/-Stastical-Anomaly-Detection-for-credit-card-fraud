{
 "cells": [
  {
   "cell_type": "code",
   "execution_count": 1,
   "id": "0fb834eb",
   "metadata": {},
   "outputs": [],
   "source": [
    "from flask import Flask, render_template, request, jsonify\n",
    "import pickle\n",
    "from twilio.rest import Client\n",
    "import numpy as np\n",
    "from scipy.stats import zscore\n",
    "import matplotlib.pyplot as plt"
   ]
  },
  {
   "cell_type": "code",
   "execution_count": 2,
   "id": "fd8f96d6",
   "metadata": {},
   "outputs": [],
   "source": [
    "app = Flask(__name__)"
   ]
  },
  {
   "cell_type": "code",
   "execution_count": 3,
   "id": "06e66c01",
   "metadata": {},
   "outputs": [],
   "source": [
    "# Twilio credentials\n",
    "account_sid = 'ACb152e1f3a2b891f4f9f2f35172543b22'\n",
    "auth_token = 'f17e684c2b35a4adfc62c83356d30baf'\n",
    "twilio_phone_number = '+12673769611'\n",
    "user_phone_number = '+918168594867'\n",
    "\n",
    "client = Client(account_sid, auth_token)"
   ]
  },
  {
   "cell_type": "code",
   "execution_count": 4,
   "id": "d1dd1124",
   "metadata": {},
   "outputs": [],
   "source": [
    "def Z_Score_Value(Value):\n",
    "    mean = 158668.18606839626\n",
    "    std = 264941.5785563747\n",
    "    Z_score = (Value - mean)/std\n",
    "    Threshold_value = 12.40\n",
    "    \n",
    "    if Z_score >= Threshold_value:\n",
    "        return 1\n",
    "    else:\n",
    "        return 0\n",
    "    \n",
    "def Tukey_Fences_Values(Value):\n",
    "    Q1 = 12149.490000000002\n",
    "    Q3 = 213762.15000000002\n",
    "    IQR = Q3 - Q1\n",
    "    tukey_threshold = 16.00 * IQR\n",
    "    \n",
    "    if Value < Q1 - tukey_threshold or  Value > Q3 + tukey_threshold:\n",
    "        return 1\n",
    "    else:\n",
    "        return 0\n",
    "    \n",
    "    \n",
    "def modified_zscore_values(value):\n",
    "    median = 76345.78\n",
    "    median_absolute_deviation = np.median(np.abs(value - median))\n",
    "    modified_z_score = np.abs(0.6745 * (value - median) / median_absolute_deviation)\n",
    "    threshold = 32.30\n",
    "    \n",
    "    if modified_z_score > threshold:\n",
    "        return 1\n",
    "    else:\n",
    "        return 0"
   ]
  },
  {
   "cell_type": "code",
   "execution_count": 5,
   "id": "463a4491",
   "metadata": {},
   "outputs": [],
   "source": [
    "@app.route('/')\n",
    "def index():\n",
    "    return render_template('index.html')"
   ]
  },
  {
   "cell_type": "code",
   "execution_count": 6,
   "id": "b721168e",
   "metadata": {},
   "outputs": [],
   "source": [
    "@app.route('/predict_anomaly', methods=['POST'])\n",
    "def predict_anomaly():\n",
    "    try:\n",
    "        selected_function = request.json['selectedFunction']\n",
    "        payment_type = request.json['paymentType']\n",
    "        old_balance = request.json['oldBalance']\n",
    "        amount = request.json['amount']\n",
    "\n",
    "        # Choose the selected function\n",
    "        if selected_function == 'modified_zscore':\n",
    "            prediction = modified_zscore_values(amount)\n",
    "        elif selected_function == 'tukey_fences':\n",
    "            prediction = Tukey_Fences_Values(old_balance)\n",
    "        elif selected_function == 'z_score':\n",
    "            prediction = Z_Score_Value(amount)\n",
    "        else:\n",
    "            raise ValueError('Invalid function selected')\n",
    "\n",
    "        # Simulate updating the balance (replace with your actual logic)\n",
    "        current_balance = old_balance - amount if payment_type == 'debit' else old_balance + amount\n",
    "        \n",
    "         # Send SMS if prediction is 1 (anomaly)\n",
    "        if prediction == 1:\n",
    "            send_sms(f'Fraud detected! Payment Type: {payment_type}, Old Balance: {old_balance}, Amount: {amount}')\n",
    "\n",
    "        return jsonify({'prediction': prediction, 'currentBalance': current_balance})\n",
    "\n",
    "    except Exception as e:\n",
    "        return jsonify({'error': str(e)})\n",
    "    \n",
    "\n",
    "def send_sms(message):\n",
    "    try:\n",
    "        message = client.messages.create(\n",
    "            to=user_phone_number,\n",
    "            from_=twilio_phone_number,\n",
    "            body=message\n",
    "        )\n",
    "        print(f\"Message sent successfully. SID: {message.sid}\")\n",
    "    except Exception as e:\n",
    "        print(f\"Error sending SMS: {e}\")"
   ]
  },
  {
   "cell_type": "code",
   "execution_count": 7,
   "id": "62cd1074",
   "metadata": {},
   "outputs": [
    {
     "name": "stderr",
     "output_type": "stream",
     "text": [
      "c:\\Users\\visha\\anaconda3\\lib\\site-packages\\xgboost\\core.py:160: UserWarning: [22:49:10] WARNING: C:\\buildkite-agent\\builds\\buildkite-windows-cpu-autoscaling-group-i-0b3782d1791676daf-1\\xgboost\\xgboost-ci-windows\\src\\common/error_msg.h:80: If you are loading a serialized model (like pickle in Python, RDS in R) or\n",
      "configuration generated by an older version of XGBoost, please export the model by calling\n",
      "`Booster.save_model` from that version first, then load it back in current version. See:\n",
      "\n",
      "    https://xgboost.readthedocs.io/en/stable/tutorials/saving_model.html\n",
      "\n",
      "for more details about differences between saving model and serializing.\n",
      "\n",
      "  warnings.warn(smsg, UserWarning)\n"
     ]
    }
   ],
   "source": [
    "with open('xgb_model.pkl', 'rb') as model_file:\n",
    "    model = pickle.load(model_file)\n",
    "    "
   ]
  },
  {
   "cell_type": "code",
   "execution_count": 8,
   "id": "49b4ba93",
   "metadata": {},
   "outputs": [],
   "source": [
    "@app.route('/machinelearning')\n",
    "def machinelearning():\n",
    "    return render_template('machinelearning.html')\n",
    "\n",
    "@app.route('/machinelearningpredict', methods=['POST'])\n",
    "def machinelearningpredict():\n",
    "    type_of_payment = request.form['type_of_payment']\n",
    "    old_balance = float(request.form['old_balance'])\n",
    "    amount = float(request.form['amount'])\n",
    "\n",
    "    # Map type_of_payment to encoded values\n",
    "    payment_mapping = {'cash_out': 1, 'payment': 3, 'cash_in': 0, 'transfer': 4, 'debit': 2}\n",
    "    encoded_payment = payment_mapping.get(type_of_payment.lower(), 0)\n",
    "\n",
    "    # Create new_balance variable\n",
    "    new_balance = old_balance + amount\n",
    "\n",
    "    # Make prediction\n",
    "    prediction = model.predict([[encoded_payment, amount, old_balance, new_balance]])\n",
    "\n",
    "    # Display the result on the HTML page\n",
    "    if prediction[0] == 0:\n",
    "        result = 'Not Fraud'\n",
    "    else:\n",
    "        result = 'Fraud Transaction'\n",
    "        send_sms(f'Fraud detected! Payment Type: {type_of_payment}, Old Balance: {old_balance}, Amount: {amount}')\n",
    "    return render_template('machinelearning.html', result=result)\n",
    "\n",
    "def send_sms(message):\n",
    "    try:\n",
    "        message = client.messages.create(\n",
    "            to=user_phone_number,\n",
    "            from_=twilio_phone_number,\n",
    "            body=message\n",
    "        )\n",
    "        print(f\"Message sent successfully. SID: {message.sid}\")\n",
    "    except Exception as e:\n",
    "        print(f\"Error sending SMS: {e}\")"
   ]
  },
  {
   "cell_type": "code",
   "execution_count": 9,
   "id": "2c2b51d8",
   "metadata": {},
   "outputs": [
    {
     "name": "stdout",
     "output_type": "stream",
     "text": [
      " * Serving Flask app \"__main__\" (lazy loading)\n",
      " * Environment: production\n",
      "\u001b[31m   WARNING: This is a development server. Do not use it in a production deployment.\u001b[0m\n",
      "\u001b[2m   Use a production WSGI server instead.\u001b[0m\n",
      " * Debug mode: off\n"
     ]
    },
    {
     "name": "stderr",
     "output_type": "stream",
     "text": [
      " * Running on all addresses.\n",
      "   WARNING: This is a development server. Do not use it in a production deployment.\n",
      " * Running on http://172.20.10.2:5000/ (Press CTRL+C to quit)\n",
      "172.20.10.2 - - [02/Jun/2024 22:49:29] \"GET / HTTP/1.1\" 200 -\n",
      "172.20.10.2 - - [02/Jun/2024 22:49:29] \"GET /favicon.ico HTTP/1.1\" 404 -\n",
      "172.20.10.2 - - [02/Jun/2024 22:49:53] \"POST /predict_anomaly HTTP/1.1\" 200 -\n"
     ]
    },
    {
     "name": "stdout",
     "output_type": "stream",
     "text": [
      "Message sent successfully. SID: SMe93b7668b1d4f974a5aab373b95fce11\n"
     ]
    },
    {
     "name": "stderr",
     "output_type": "stream",
     "text": [
      "172.20.10.2 - - [03/Jun/2024 10:05:14] \"POST /predict_anomaly HTTP/1.1\" 200 -\n",
      "172.20.10.2 - - [03/Jun/2024 10:05:33] \"POST /predict_anomaly HTTP/1.1\" 200 -\n",
      "172.20.10.2 - - [03/Jun/2024 10:05:33] \"POST /predict_anomaly HTTP/1.1\" 200 -\n"
     ]
    },
    {
     "name": "stdout",
     "output_type": "stream",
     "text": [
      "Message sent successfully. SID: SM0035e2ca271f720e475ce668c92f4854\n",
      "Message sent successfully. SID: SMd650b988e60df78c2dd57c2a8cc2a88e\n"
     ]
    },
    {
     "name": "stderr",
     "output_type": "stream",
     "text": [
      "172.20.10.2 - - [03/Jun/2024 10:05:38] \"POST /predict_anomaly HTTP/1.1\" 200 -\n"
     ]
    },
    {
     "name": "stdout",
     "output_type": "stream",
     "text": [
      "Message sent successfully. SID: SM01ac6e524a4651562f7eaa069a1b68b7\n"
     ]
    },
    {
     "name": "stderr",
     "output_type": "stream",
     "text": [
      "172.20.10.2 - - [03/Jun/2024 10:05:59] \"POST /predict_anomaly HTTP/1.1\" 200 -\n"
     ]
    },
    {
     "name": "stdout",
     "output_type": "stream",
     "text": [
      "Message sent successfully. SID: SM3afb6d0a82822a4ab96f89b4c200db65\n"
     ]
    }
   ],
   "source": [
    "if __name__ == '__main__':\n",
    "    app.run(host=\"0.0.0.0\")"
   ]
  },
  {
   "cell_type": "code",
   "execution_count": null,
   "id": "3b37b0d3",
   "metadata": {},
   "outputs": [],
   "source": []
  }
 ],
 "metadata": {
  "kernelspec": {
   "display_name": "Python 3 (ipykernel)",
   "language": "python",
   "name": "python3"
  },
  "language_info": {
   "codemirror_mode": {
    "name": "ipython",
    "version": 3
   },
   "file_extension": ".py",
   "mimetype": "text/x-python",
   "name": "python",
   "nbconvert_exporter": "python",
   "pygments_lexer": "ipython3",
   "version": "3.9.13"
  }
 },
 "nbformat": 4,
 "nbformat_minor": 5
}
